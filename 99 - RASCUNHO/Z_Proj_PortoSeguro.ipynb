{
  "nbformat": 4,
  "nbformat_minor": 0,
  "metadata": {
    "colab": {
      "name": "Z_Proj_PortoSeguro.ipynb",
      "provenance": [],
      "collapsed_sections": [
        "RXTTsM55lqhK",
        "fAraN79O7Ilo",
        "hAQu0kWk7bKy",
        "nN3eUdkF7eWS"
      ]
    },
    "kernelspec": {
      "name": "python3",
      "display_name": "Python 3"
    },
    "language_info": {
      "name": "python"
    }
  },
  "cells": [
    {
      "cell_type": "markdown",
      "metadata": {
        "id": "XUxUJqKmk35D"
      },
      "source": [
        "#INCLUSÃO DAS BIBLIOTECAS QUE SERÃO NECESSÁRIAS NO DECORRER DO CÓDIGO\n",
        "\n",
        "\n",
        "1.   Pandas: inclusão dos dados em um dataframe\n",
        "2.   Numpy: biblioteca númerica para *comparações*\n",
        "3.   Matplotlib: inclusão da biblioteca *pyplot* para geração de gráficos\n",
        "\n"
      ]
    },
    {
      "cell_type": "code",
      "metadata": {
        "id": "oKFLdcHhRmzt"
      },
      "source": [
        "import pandas as pd\n",
        "import numpy as np\n",
        "import seaborn as sns\n",
        "import matplotlib.pyplot as plt"
      ],
      "execution_count": 7,
      "outputs": []
    },
    {
      "cell_type": "markdown",
      "metadata": {
        "id": "RXTTsM55lqhK"
      },
      "source": [
        "#CARGA DOS ARQUIVOS DE TREINO\n",
        "\n",
        "- Devido ao tamanho original do arquivo foi necessário particioná-lo em 2 para que o Github aceitasse os arquivos e pudessemos fazer uma leitura direta dele no local de armazenamento, independente do programa gerar de código usado."
      ]
    },
    {
      "cell_type": "code",
      "metadata": {
        "id": "Gn23ECeyQGhY",
        "colab": {
          "base_uri": "https://localhost:8080/"
        },
        "outputId": "6e489936-1201-4401-b055-e827c4eb7a23"
      },
      "source": [
        "# Parte 1 do arquivo\n",
        "url = 'https://raw.githubusercontent.com/danilosrm/projeto_MDD/main/00%20-%20FONTES/01%20-%20TRAIN/train_01.csv'\n",
        "  \n",
        "df_train = pd.read_csv(url, error_bad_lines=False, delimiter=';')\n",
        "print('Quantidade registro da primeira parte: ', df_train['id'].count())\n",
        "\n",
        "# Parte 2 do arquivo \n",
        "url = 'https://raw.githubusercontent.com/danilosrm/projeto_MDD/main/00%20-%20FONTES/01%20-%20TRAIN/train_02.csv'  \n",
        "  \n",
        "df2_train = pd.read_csv(url, error_bad_lines=False, delimiter=';')\n",
        "print('Quantidade registro da segunda parte: ', df2_train['id'].count())\n",
        "\n",
        "# Junção das partes  \n",
        "df_train = df_train.append(df2_train)\n",
        "print('Quantidade total registros: ', df_train['id'].count())\n"
      ],
      "execution_count": 8,
      "outputs": [
        {
          "output_type": "stream",
          "name": "stdout",
          "text": [
            "Quantidade registro da primeira parte:  297605\n",
            "Quantidade registro da segunda parte:  297607\n",
            "Quantidade total registros:  595212\n"
          ]
        }
      ]
    },
    {
      "cell_type": "code",
      "metadata": {
        "id": "orCGYXOcVoOK"
      },
      "source": [
        "#Analise inicial dos dados carregados, verificando se existem campos com valores nulos. \n",
        "\n",
        "df_train.info(0)"
      ],
      "execution_count": null,
      "outputs": []
    },
    {
      "cell_type": "code",
      "metadata": {
        "id": "XdmpRFUeVRFG"
      },
      "source": [
        "# Demonstração dos 5 primeiras linhas de registros de forma Transversal\n",
        "\n",
        "df_train.head(5).T"
      ],
      "execution_count": null,
      "outputs": []
    },
    {
      "cell_type": "code",
      "metadata": {
        "colab": {
          "base_uri": "https://localhost:8080/",
          "height": 283
        },
        "id": "4JXgRRHCkqNf",
        "outputId": "1e75d538-8f63-4553-94bf-bea5cf1d157f"
      },
      "source": [
        "# Tentativa de geração da plotagem das colunas existentes, porém como a quantidade é elevado, o gráfico acaba ficando\n",
        "# de forma desconfigurada e com o entendimento totalmente ilegivel. \n",
        "# Ainda é possível ver uma coluna que destoa das demais, sem conseguir identificar.\n",
        "\n",
        "# Retirado a coluna \"id\" que faz a identificação dos registros.\n",
        "df_train.drop('id', axis=1).plot.box()"
      ],
      "execution_count": 32,
      "outputs": [
        {
          "output_type": "execute_result",
          "data": {
            "text/plain": [
              "<matplotlib.axes._subplots.AxesSubplot at 0x7fe54d8db110>"
            ]
          },
          "metadata": {},
          "execution_count": 32
        },
        {
          "output_type": "display_data",
          "data": {
            "image/png": "[encoded data removed]",
            "text/plain": [
              "<Figure size 432x288 with 1 Axes>"
            ]
          },
          "metadata": {
            "needs_background": "light"
          }
        }
      ]
    },
    {
      "cell_type": "markdown",
      "metadata": {
        "id": "NUIHmfHuwqL1"
      },
      "source": [
        "# Analise da Coluna Target"
      ]
    },
    {
      "cell_type": "code",
      "metadata": {
        "colab": {
          "base_uri": "https://localhost:8080/"
        },
        "id": "s8iUwoTawOdf",
        "outputId": "b1d6e8cc-c8fa-484d-b70e-7a361ca2866b"
      },
      "source": [
        "# Idenficação do valor Mínimo e Máximo\n",
        "\n",
        "print('Valor mínimo do coluna Target: ', df_train['target'].min())\n",
        "print('Valor maximo do coluna Target: ', df_train['target'].max())"
      ],
      "execution_count": 34,
      "outputs": [
        {
          "output_type": "stream",
          "name": "stdout",
          "text": [
            "Valor mínimo do coluna Target:  0\n",
            "Valor maximo do coluna Target:  1\n"
          ]
        }
      ]
    },
    {
      "cell_type": "code",
      "metadata": {
        "colab": {
          "base_uri": "https://localhost:8080/"
        },
        "id": "bot_c-ZRr6sx",
        "outputId": "6a4e6464-ab7e-4e91-dfe6-cc7be32d6b55"
      },
      "source": [
        "# Quantidade de registros para cada valor da coluna 'Target'\n",
        "\n",
        "qtd_target = df_train['target'].value_counts()\n",
        "\n",
        "print(qtd_target)"
      ],
      "execution_count": 35,
      "outputs": [
        {
          "output_type": "stream",
          "name": "stdout",
          "text": [
            "0    573518\n",
            "1     21694\n",
            "Name: target, dtype: int64\n"
          ]
        }
      ]
    },
    {
      "cell_type": "code",
      "metadata": {
        "colab": {
          "base_uri": "https://localhost:8080/",
          "height": 408
        },
        "id": "La7ZLEPqqQPC",
        "outputId": "13c9864a-3c86-460c-d9df-e44d24a55615"
      },
      "source": [
        "# Gráfico da coluna \"Target\", utilizando a biblioteca \"matplotlib\" \n",
        "# O intuido é demonstrar a diferença na quantidade de registros entre os valores da coluna\n",
        "\n",
        "plt.figure(figsize=(10,5))\n",
        "sns.countplot(df_train['target'], palette=\"Set2\")"
      ],
      "execution_count": 36,
      "outputs": [
        {
          "output_type": "stream",
          "name": "stderr",
          "text": [
            "/usr/local/lib/python3.7/dist-packages/seaborn/_decorators.py:43: FutureWarning: Pass the following variable as a keyword arg: x. From version 0.12, the only valid positional argument will be `data`, and passing other arguments without an explicit keyword will result in an error or misinterpretation.\n",
            "  FutureWarning\n"
          ]
        },
        {
          "output_type": "execute_result",
          "data": {
            "text/plain": [
              "<matplotlib.axes._subplots.AxesSubplot at 0x7fe54d9289d0>"
            ]
          },
          "metadata": {},
          "execution_count": 36
        },
        {
          "output_type": "display_data",
          "data": {
            "image/png": "[encoded data removed]",
            "text/plain": [
              "<Figure size 720x360 with 1 Axes>"
            ]
          },
          "metadata": {
            "needs_background": "light"
          }
        }
      ]
    },
    {
      "cell_type": "markdown",
      "metadata": {
        "id": "mSrlHGtO-JFj"
      },
      "source": [
        "### *Quantidade de registros que não solicitam sinistro é muito alto, o que compromete a previsão dos dados."
      ]
    },
    {
      "cell_type": "markdown",
      "metadata": {
        "id": "r7Uf6aFr7wEn"
      },
      "source": [
        "# Separação das colunas em 8 grupos\n",
        "\n",
        "Inteção é facilitar a análise em grupos separadas, mas que parecem ser da mesma característica.\n",
        "\n",
        "* \"n\" indica a numeração da coluna.\n",
        "\n",
        "1.   **df_ps_ind**: colunas \"ps_ind_n\".\n",
        "2.   **df_ps_ind_cat**: colunas \"ps_ind_n_cat\".\n",
        "3.   **df_ps_ind_bin**: colunas \"ps_ind_n_bin\".\n",
        "4.   **df_ps_reg**: colunas \"ps_ps_reg_n\".\n",
        "5.   **df_ps_car**: colunas \"ps_car_n\".\n",
        "6.   **df_ps_car_cat**: colunas \"ps_car_n_cat\".\n",
        "7.   **df_ps_cal**: colunas \"ps_cal_n\".\n",
        "8.   **df_ps_cal_bin**: colunas \"ps_car_bin\".\n",
        "\n",
        "\n",
        "\n",
        "\n"
      ]
    },
    {
      "cell_type": "code",
      "metadata": {
        "id": "rZqSgWgQDX1W"
      },
      "source": [
        "# LISTA DAS COLUNAS CONFORME GRUPOS\n",
        "\n",
        "lista_ps_ind = ['ps_ind_01', 'ps_ind_03', 'ps_ind_14', 'ps_ind_15']\n",
        "\n",
        "lista_ps_ind_cat = ['ps_ind_02_cat','ps_ind_04_cat','ps_ind_05_cat']\n",
        "\n",
        "lista_ps_ind_bin = ['ps_ind_06_bin', 'ps_ind_07_bin', 'ps_ind_08_bin','ps_ind_09_bin', 'ps_ind_10_bin', 'ps_ind_11_bin', 'ps_ind_12_bin',\n",
        "                    'ps_ind_13_bin', 'ps_ind_16_bin', 'ps_ind_17_bin', 'ps_ind_18_bin']\n",
        "\n",
        "lista_ps_reg = ['ps_reg_01', 'ps_reg_02', 'ps_reg_03']         \n",
        "\n",
        "lista_ps_car = ['ps_car_11','ps_car_12', 'ps_car_13', 'ps_car_14', 'ps_car_15'] \n",
        "\n",
        "lista_ps_car_cat = ['ps_car_01_cat', 'ps_car_02_cat', 'ps_car_03_cat', 'ps_car_04_cat','ps_car_05_cat', 'ps_car_06_cat', \n",
        "                    'ps_car_07_cat', 'ps_car_08_cat','ps_car_09_cat', 'ps_car_10_cat', 'ps_car_11_cat']  \n",
        "\n",
        "lista_ps_cal = [ 'ps_calc_01','ps_calc_02', 'ps_calc_03', 'ps_calc_04', 'ps_calc_05', 'ps_calc_06','ps_calc_07', \n",
        "                'ps_calc_08', 'ps_calc_09', 'ps_calc_10', 'ps_calc_11','ps_calc_12', 'ps_calc_13', 'ps_calc_14']\n",
        "\n",
        "lista_ps_cal_bin = [ 'ps_calc_15_bin', 'ps_calc_16_bin', 'ps_calc_17_bin', 'ps_calc_18_bin','ps_calc_19_bin','ps_calc_20_bin']\n",
        "\n"
      ],
      "execution_count": 37,
      "outputs": []
    },
    {
      "cell_type": "markdown",
      "metadata": {
        "id": "np8KJ33p7AMX"
      },
      "source": [
        "##**GRUPO 1**\n"
      ]
    },
    {
      "cell_type": "code",
      "metadata": {
        "colab": {
          "base_uri": "https://localhost:8080/",
          "height": 297
        },
        "id": "b-BmwK3a7Scd",
        "outputId": "44cce614-44a5-4241-976b-fd6d7449dc31"
      },
      "source": [
        "df_ps_ind = df_train\n",
        "\n",
        "lista =  lista_ps_ind_cat + lista_ps_ind_bin + lista_ps_reg + lista_ps_car + lista_ps_car_cat + lista_ps_cal + lista_ps_cal_bin\n",
        "df_ps_ind = df_ps_ind.drop(lista, axis=1)\n",
        "\n",
        "df_ps_ind.describe()"
      ],
      "execution_count": 38,
      "outputs": [
        {
          "output_type": "execute_result",
          "data": {
            "text/html": [
              "<div>\n",
              "<style scoped>\n",
              "    .dataframe tbody tr th:only-of-type {\n",
              "        vertical-align: middle;\n",
              "    }\n",
              "\n",
              "    .dataframe tbody tr th {\n",
              "        vertical-align: top;\n",
              "    }\n",
              "\n",
              "    .dataframe thead th {\n",
              "        text-align: right;\n",
              "    }\n",
              "</style>\n",
              "<table border=\"1\" class=\"dataframe\">\n",
              "  <thead>\n",
              "    <tr style=\"text-align: right;\">\n",
              "      <th></th>\n",
              "      <th>id</th>\n",
              "      <th>target</th>\n",
              "      <th>ps_ind_01</th>\n",
              "      <th>ps_ind_03</th>\n",
              "      <th>ps_ind_14</th>\n",
              "      <th>ps_ind_15</th>\n",
              "    </tr>\n",
              "  </thead>\n",
              "  <tbody>\n",
              "    <tr>\n",
              "      <th>count</th>\n",
              "      <td>5.952120e+05</td>\n",
              "      <td>595212.000000</td>\n",
              "      <td>595212.000000</td>\n",
              "      <td>595212.000000</td>\n",
              "      <td>595212.000000</td>\n",
              "      <td>595212.000000</td>\n",
              "    </tr>\n",
              "    <tr>\n",
              "      <th>mean</th>\n",
              "      <td>7.438036e+05</td>\n",
              "      <td>0.036448</td>\n",
              "      <td>1.900378</td>\n",
              "      <td>4.423318</td>\n",
              "      <td>0.012451</td>\n",
              "      <td>7.299922</td>\n",
              "    </tr>\n",
              "    <tr>\n",
              "      <th>std</th>\n",
              "      <td>4.293678e+05</td>\n",
              "      <td>0.187401</td>\n",
              "      <td>1.983789</td>\n",
              "      <td>2.699902</td>\n",
              "      <td>0.127545</td>\n",
              "      <td>3.546042</td>\n",
              "    </tr>\n",
              "    <tr>\n",
              "      <th>min</th>\n",
              "      <td>7.000000e+00</td>\n",
              "      <td>0.000000</td>\n",
              "      <td>0.000000</td>\n",
              "      <td>0.000000</td>\n",
              "      <td>0.000000</td>\n",
              "      <td>0.000000</td>\n",
              "    </tr>\n",
              "    <tr>\n",
              "      <th>25%</th>\n",
              "      <td>3.719915e+05</td>\n",
              "      <td>0.000000</td>\n",
              "      <td>0.000000</td>\n",
              "      <td>2.000000</td>\n",
              "      <td>0.000000</td>\n",
              "      <td>5.000000</td>\n",
              "    </tr>\n",
              "    <tr>\n",
              "      <th>50%</th>\n",
              "      <td>7.435475e+05</td>\n",
              "      <td>0.000000</td>\n",
              "      <td>1.000000</td>\n",
              "      <td>4.000000</td>\n",
              "      <td>0.000000</td>\n",
              "      <td>7.000000</td>\n",
              "    </tr>\n",
              "    <tr>\n",
              "      <th>75%</th>\n",
              "      <td>1.115549e+06</td>\n",
              "      <td>0.000000</td>\n",
              "      <td>3.000000</td>\n",
              "      <td>6.000000</td>\n",
              "      <td>0.000000</td>\n",
              "      <td>10.000000</td>\n",
              "    </tr>\n",
              "    <tr>\n",
              "      <th>max</th>\n",
              "      <td>1.488027e+06</td>\n",
              "      <td>1.000000</td>\n",
              "      <td>7.000000</td>\n",
              "      <td>11.000000</td>\n",
              "      <td>4.000000</td>\n",
              "      <td>13.000000</td>\n",
              "    </tr>\n",
              "  </tbody>\n",
              "</table>\n",
              "</div>"
            ],
            "text/plain": [
              "                 id         target  ...      ps_ind_14      ps_ind_15\n",
              "count  5.952120e+05  595212.000000  ...  595212.000000  595212.000000\n",
              "mean   7.438036e+05       0.036448  ...       0.012451       7.299922\n",
              "std    4.293678e+05       0.187401  ...       0.127545       3.546042\n",
              "min    7.000000e+00       0.000000  ...       0.000000       0.000000\n",
              "25%    3.719915e+05       0.000000  ...       0.000000       5.000000\n",
              "50%    7.435475e+05       0.000000  ...       0.000000       7.000000\n",
              "75%    1.115549e+06       0.000000  ...       0.000000      10.000000\n",
              "max    1.488027e+06       1.000000  ...       4.000000      13.000000\n",
              "\n",
              "[8 rows x 6 columns]"
            ]
          },
          "metadata": {},
          "execution_count": 38
        }
      ]
    },
    {
      "cell_type": "code",
      "metadata": {
        "colab": {
          "base_uri": "https://localhost:8080/",
          "height": 283
        },
        "id": "-ytYsbxujqUb",
        "outputId": "dcfdbde2-d69b-4dd8-cd8a-8b1f30ac09db"
      },
      "source": [
        "# Gera um gráfico do tipo Boxplot, porém desconsiderando as colunas \"ID\" e \"TARGET\"\n",
        "# Coluna \"ID\" é somente para associação com dados de outros grupos, mas que possuem mesmo \"ID\"\n",
        "\n",
        "lista_id_target = ['id', 'target']\n",
        "df_ps_ind.drop(lista_id_target, axis=1).plot.box()"
      ],
      "execution_count": 40,
      "outputs": [
        {
          "output_type": "execute_result",
          "data": {
            "text/plain": [
              "<matplotlib.axes._subplots.AxesSubplot at 0x7fe54d1f6110>"
            ]
          },
          "metadata": {},
          "execution_count": 40
        },
        {
          "output_type": "display_data",
          "data": {
            "image/png": "[encoded data removed]",
            "text/plain": [
              "<Figure size 432x288 with 1 Axes>"
            ]
          },
          "metadata": {
            "needs_background": "light"
          }
        }
      ]
    },
    {
      "cell_type": "code",
      "metadata": {
        "id": "lj-Sb8tkisNV",
        "colab": {
          "base_uri": "https://localhost:8080/",
          "height": 510
        },
        "outputId": "98f5c593-e786-4324-eeb8-03fdf1861d84"
      },
      "source": [
        "# Grupo 1: Index(['id', 'target', 'ps_ind_01', 'ps_ind_03', 'ps_ind_14', 'ps_ind_15'], dtype='object')\n",
        "\n",
        "fig,ax = plt.subplots(2,2,figsize=(15,5),sharex='all')\n",
        "ax1,ax2,ax3,ax4 = ax.flatten()\n",
        "sns.countplot(df_ps_ind['ps_ind_01'],palette='rainbow',ax=ax1)\n",
        "sns.countplot(df_ps_ind['ps_ind_03'],palette='summer',ax=ax2)\n",
        "sns.countplot(df_ps_ind['ps_ind_14'],palette='gist_rainbow',ax=ax3)\n",
        "sns.countplot(df_ps_ind['ps_ind_15'],palette='summer',ax=ax4)\n"
      ],
      "execution_count": 53,
      "outputs": [
        {
          "output_type": "stream",
          "name": "stderr",
          "text": [
            "/usr/local/lib/python3.7/dist-packages/seaborn/_decorators.py:43: FutureWarning: Pass the following variable as a keyword arg: x. From version 0.12, the only valid positional argument will be `data`, and passing other arguments without an explicit keyword will result in an error or misinterpretation.\n",
            "  FutureWarning\n",
            "/usr/local/lib/python3.7/dist-packages/seaborn/_decorators.py:43: FutureWarning: Pass the following variable as a keyword arg: x. From version 0.12, the only valid positional argument will be `data`, and passing other arguments without an explicit keyword will result in an error or misinterpretation.\n",
            "  FutureWarning\n",
            "/usr/local/lib/python3.7/dist-packages/seaborn/_decorators.py:43: FutureWarning: Pass the following variable as a keyword arg: x. From version 0.12, the only valid positional argument will be `data`, and passing other arguments without an explicit keyword will result in an error or misinterpretation.\n",
            "  FutureWarning\n",
            "/usr/local/lib/python3.7/dist-packages/seaborn/_decorators.py:43: FutureWarning: Pass the following variable as a keyword arg: x. From version 0.12, the only valid positional argument will be `data`, and passing other arguments without an explicit keyword will result in an error or misinterpretation.\n",
            "  FutureWarning\n"
          ]
        },
        {
          "output_type": "execute_result",
          "data": {
            "text/plain": [
              "<matplotlib.axes._subplots.AxesSubplot at 0x7fe54c5bbe50>"
            ]
          },
          "metadata": {},
          "execution_count": 53
        },
        {
          "output_type": "display_data",
          "data": {
            "image/png": "[encoded data removed]",
            "text/plain": [
              "<Figure size 1080x360 with 4 Axes>"
            ]
          },
          "metadata": {
            "needs_background": "light"
          }
        }
      ]
    },
    {
      "cell_type": "code",
      "metadata": {
        "colab": {
          "base_uri": "https://localhost:8080/",
          "height": 491
        },
        "id": "3xXBEdIIBylL",
        "outputId": "f2bdbe64-3d38-4ab2-f6d7-da2d2fc84116"
      },
      "source": [
        "# Avaliando somente a coluna \"ps_ind_14\"\n",
        "\n",
        "plt.figure(figsize=(10,5))\n",
        "sns.countplot(df_ps_ind['ps_ind_14'], palette=\"Set2\")\n",
        "\n",
        "qtd_target = df_ps_ind['ps_ind_14'].value_counts()\n",
        "\n",
        "print(qtd_target)"
      ],
      "execution_count": 51,
      "outputs": [
        {
          "output_type": "stream",
          "name": "stderr",
          "text": [
            "/usr/local/lib/python3.7/dist-packages/seaborn/_decorators.py:43: FutureWarning: Pass the following variable as a keyword arg: x. From version 0.12, the only valid positional argument will be `data`, and passing other arguments without an explicit keyword will result in an error or misinterpretation.\n",
            "  FutureWarning\n"
          ]
        },
        {
          "output_type": "stream",
          "name": "stdout",
          "text": [
            "0    588832\n",
            "1      5495\n",
            "2       744\n",
            "3       136\n",
            "4         5\n",
            "Name: ps_ind_14, dtype: int64\n"
          ]
        },
        {
          "output_type": "display_data",
          "data": {
            "image/png": "[encoded data removed]",
            "text/plain": [
              "<Figure size 720x360 with 1 Axes>"
            ]
          },
          "metadata": {
            "needs_background": "light"
          }
        }
      ]
    },
    {
      "cell_type": "markdown",
      "metadata": {
        "id": "fAraN79O7Ilo"
      },
      "source": [
        "##**GRUPO 2**"
      ]
    },
    {
      "cell_type": "code",
      "metadata": {
        "id": "qvfqoWAj6aN9",
        "colab": {
          "base_uri": "https://localhost:8080/",
          "height": 297
        },
        "outputId": "097626a6-ea7e-494b-e67c-a769f61e4428"
      },
      "source": [
        "df_ps_ind_cat = df_train\n",
        "\n",
        "lista =  lista_ps_ind + lista_ps_ind_bin + lista_ps_reg + lista_ps_car + lista_ps_car_cat + lista_ps_cal + lista_ps_cal_bin\n",
        "df_ps_ind_cat = df_ps_ind_cat.drop(lista, axis=1)\n",
        "\n",
        "df_ps_ind_cat.describe()"
      ],
      "execution_count": null,
      "outputs": [
        {
          "output_type": "execute_result",
          "data": {
            "text/html": [
              "<div>\n",
              "<style scoped>\n",
              "    .dataframe tbody tr th:only-of-type {\n",
              "        vertical-align: middle;\n",
              "    }\n",
              "\n",
              "    .dataframe tbody tr th {\n",
              "        vertical-align: top;\n",
              "    }\n",
              "\n",
              "    .dataframe thead th {\n",
              "        text-align: right;\n",
              "    }\n",
              "</style>\n",
              "<table border=\"1\" class=\"dataframe\">\n",
              "  <thead>\n",
              "    <tr style=\"text-align: right;\">\n",
              "      <th></th>\n",
              "      <th>id</th>\n",
              "      <th>target</th>\n",
              "      <th>ps_ind_02_cat</th>\n",
              "      <th>ps_ind_04_cat</th>\n",
              "      <th>ps_ind_05_cat</th>\n",
              "    </tr>\n",
              "  </thead>\n",
              "  <tbody>\n",
              "    <tr>\n",
              "      <th>count</th>\n",
              "      <td>5.952120e+05</td>\n",
              "      <td>595212.000000</td>\n",
              "      <td>595212.000000</td>\n",
              "      <td>595212.000000</td>\n",
              "      <td>595212.000000</td>\n",
              "    </tr>\n",
              "    <tr>\n",
              "      <th>mean</th>\n",
              "      <td>7.438036e+05</td>\n",
              "      <td>0.036448</td>\n",
              "      <td>1.358943</td>\n",
              "      <td>0.416794</td>\n",
              "      <td>0.405188</td>\n",
              "    </tr>\n",
              "    <tr>\n",
              "      <th>std</th>\n",
              "      <td>4.293678e+05</td>\n",
              "      <td>0.187401</td>\n",
              "      <td>0.664594</td>\n",
              "      <td>0.493311</td>\n",
              "      <td>1.350642</td>\n",
              "    </tr>\n",
              "    <tr>\n",
              "      <th>min</th>\n",
              "      <td>7.000000e+00</td>\n",
              "      <td>0.000000</td>\n",
              "      <td>-1.000000</td>\n",
              "      <td>-1.000000</td>\n",
              "      <td>-1.000000</td>\n",
              "    </tr>\n",
              "    <tr>\n",
              "      <th>25%</th>\n",
              "      <td>3.719915e+05</td>\n",
              "      <td>0.000000</td>\n",
              "      <td>1.000000</td>\n",
              "      <td>0.000000</td>\n",
              "      <td>0.000000</td>\n",
              "    </tr>\n",
              "    <tr>\n",
              "      <th>50%</th>\n",
              "      <td>7.435475e+05</td>\n",
              "      <td>0.000000</td>\n",
              "      <td>1.000000</td>\n",
              "      <td>0.000000</td>\n",
              "      <td>0.000000</td>\n",
              "    </tr>\n",
              "    <tr>\n",
              "      <th>75%</th>\n",
              "      <td>1.115549e+06</td>\n",
              "      <td>0.000000</td>\n",
              "      <td>2.000000</td>\n",
              "      <td>1.000000</td>\n",
              "      <td>0.000000</td>\n",
              "    </tr>\n",
              "    <tr>\n",
              "      <th>max</th>\n",
              "      <td>1.488027e+06</td>\n",
              "      <td>1.000000</td>\n",
              "      <td>4.000000</td>\n",
              "      <td>1.000000</td>\n",
              "      <td>6.000000</td>\n",
              "    </tr>\n",
              "  </tbody>\n",
              "</table>\n",
              "</div>"
            ],
            "text/plain": [
              "                 id         target  ps_ind_02_cat  ps_ind_04_cat  ps_ind_05_cat\n",
              "count  5.952120e+05  595212.000000  595212.000000  595212.000000  595212.000000\n",
              "mean   7.438036e+05       0.036448       1.358943       0.416794       0.405188\n",
              "std    4.293678e+05       0.187401       0.664594       0.493311       1.350642\n",
              "min    7.000000e+00       0.000000      -1.000000      -1.000000      -1.000000\n",
              "25%    3.719915e+05       0.000000       1.000000       0.000000       0.000000\n",
              "50%    7.435475e+05       0.000000       1.000000       0.000000       0.000000\n",
              "75%    1.115549e+06       0.000000       2.000000       1.000000       0.000000\n",
              "max    1.488027e+06       1.000000       4.000000       1.000000       6.000000"
            ]
          },
          "metadata": {},
          "execution_count": 14
        }
      ]
    },
    {
      "cell_type": "code",
      "metadata": {
        "colab": {
          "base_uri": "https://localhost:8080/",
          "height": 283
        },
        "id": "PaTgz3lpj2-r",
        "outputId": "55253a71-990c-438e-98cf-dbc568a73d64"
      },
      "source": [
        "df_ps_ind_cat.drop('id', axis=1).plot.box()"
      ],
      "execution_count": null,
      "outputs": [
        {
          "output_type": "execute_result",
          "data": {
            "text/plain": [
              "<matplotlib.axes._subplots.AxesSubplot at 0x7f09f5398590>"
            ]
          },
          "metadata": {},
          "execution_count": 17
        },
        {
          "output_type": "display_data",
          "data": {
            "image/png": "[encoded data removed]",
            "text/plain": [
              "<Figure size 432x288 with 1 Axes>"
            ]
          },
          "metadata": {
            "needs_background": "light"
          }
        }
      ]
    },
    {
      "cell_type": "markdown",
      "metadata": {
        "id": "FC97n19q7MuA"
      },
      "source": [
        "##**GRUPO 3**"
      ]
    },
    {
      "cell_type": "code",
      "metadata": {
        "id": "XDdu86xW6wuG",
        "colab": {
          "base_uri": "https://localhost:8080/",
          "height": 452
        },
        "outputId": "21ef68ad-bf8f-4d52-ec28-72a7932066db"
      },
      "source": [
        "df_ps_ind_bin = df_train\n",
        "\n",
        "lista =  lista_ps_ind + lista_ps_ind_cat + lista_ps_reg + lista_ps_car + lista_ps_car_cat + lista_ps_cal + lista_ps_cal_bin\n",
        "df_ps_ind_bin = df_ps_ind_bin.drop(lista, axis=1)\n",
        "\n",
        "df_ps_ind_bin.describe().T"
      ],
      "execution_count": 55,
      "outputs": [
        {
          "output_type": "execute_result",
          "data": {
            "text/html": [
              "<div>\n",
              "<style scoped>\n",
              "    .dataframe tbody tr th:only-of-type {\n",
              "        vertical-align: middle;\n",
              "    }\n",
              "\n",
              "    .dataframe tbody tr th {\n",
              "        vertical-align: top;\n",
              "    }\n",
              "\n",
              "    .dataframe thead th {\n",
              "        text-align: right;\n",
              "    }\n",
              "</style>\n",
              "<table border=\"1\" class=\"dataframe\">\n",
              "  <thead>\n",
              "    <tr style=\"text-align: right;\">\n",
              "      <th></th>\n",
              "      <th>count</th>\n",
              "      <th>mean</th>\n",
              "      <th>std</th>\n",
              "      <th>min</th>\n",
              "      <th>25%</th>\n",
              "      <th>50%</th>\n",
              "      <th>75%</th>\n",
              "      <th>max</th>\n",
              "    </tr>\n",
              "  </thead>\n",
              "  <tbody>\n",
              "    <tr>\n",
              "      <th>id</th>\n",
              "      <td>595212.0</td>\n",
              "      <td>743803.558435</td>\n",
              "      <td>429367.820429</td>\n",
              "      <td>7.0</td>\n",
              "      <td>371991.5</td>\n",
              "      <td>743547.5</td>\n",
              "      <td>1115548.75</td>\n",
              "      <td>1488027.0</td>\n",
              "    </tr>\n",
              "    <tr>\n",
              "      <th>target</th>\n",
              "      <td>595212.0</td>\n",
              "      <td>0.036448</td>\n",
              "      <td>0.187401</td>\n",
              "      <td>0.0</td>\n",
              "      <td>0.0</td>\n",
              "      <td>0.0</td>\n",
              "      <td>0.00</td>\n",
              "      <td>1.0</td>\n",
              "    </tr>\n",
              "    <tr>\n",
              "      <th>ps_ind_06_bin</th>\n",
              "      <td>595212.0</td>\n",
              "      <td>0.393742</td>\n",
              "      <td>0.488579</td>\n",
              "      <td>0.0</td>\n",
              "      <td>0.0</td>\n",
              "      <td>0.0</td>\n",
              "      <td>1.00</td>\n",
              "      <td>1.0</td>\n",
              "    </tr>\n",
              "    <tr>\n",
              "      <th>ps_ind_07_bin</th>\n",
              "      <td>595212.0</td>\n",
              "      <td>0.257033</td>\n",
              "      <td>0.436998</td>\n",
              "      <td>0.0</td>\n",
              "      <td>0.0</td>\n",
              "      <td>0.0</td>\n",
              "      <td>1.00</td>\n",
              "      <td>1.0</td>\n",
              "    </tr>\n",
              "    <tr>\n",
              "      <th>ps_ind_08_bin</th>\n",
              "      <td>595212.0</td>\n",
              "      <td>0.163921</td>\n",
              "      <td>0.370205</td>\n",
              "      <td>0.0</td>\n",
              "      <td>0.0</td>\n",
              "      <td>0.0</td>\n",
              "      <td>0.00</td>\n",
              "      <td>1.0</td>\n",
              "    </tr>\n",
              "    <tr>\n",
              "      <th>ps_ind_09_bin</th>\n",
              "      <td>595212.0</td>\n",
              "      <td>0.185304</td>\n",
              "      <td>0.388544</td>\n",
              "      <td>0.0</td>\n",
              "      <td>0.0</td>\n",
              "      <td>0.0</td>\n",
              "      <td>0.00</td>\n",
              "      <td>1.0</td>\n",
              "    </tr>\n",
              "    <tr>\n",
              "      <th>ps_ind_10_bin</th>\n",
              "      <td>595212.0</td>\n",
              "      <td>0.000373</td>\n",
              "      <td>0.019309</td>\n",
              "      <td>0.0</td>\n",
              "      <td>0.0</td>\n",
              "      <td>0.0</td>\n",
              "      <td>0.00</td>\n",
              "      <td>1.0</td>\n",
              "    </tr>\n",
              "    <tr>\n",
              "      <th>ps_ind_11_bin</th>\n",
              "      <td>595212.0</td>\n",
              "      <td>0.001692</td>\n",
              "      <td>0.041097</td>\n",
              "      <td>0.0</td>\n",
              "      <td>0.0</td>\n",
              "      <td>0.0</td>\n",
              "      <td>0.00</td>\n",
              "      <td>1.0</td>\n",
              "    </tr>\n",
              "    <tr>\n",
              "      <th>ps_ind_12_bin</th>\n",
              "      <td>595212.0</td>\n",
              "      <td>0.009439</td>\n",
              "      <td>0.096693</td>\n",
              "      <td>0.0</td>\n",
              "      <td>0.0</td>\n",
              "      <td>0.0</td>\n",
              "      <td>0.00</td>\n",
              "      <td>1.0</td>\n",
              "    </tr>\n",
              "    <tr>\n",
              "      <th>ps_ind_13_bin</th>\n",
              "      <td>595212.0</td>\n",
              "      <td>0.000948</td>\n",
              "      <td>0.030768</td>\n",
              "      <td>0.0</td>\n",
              "      <td>0.0</td>\n",
              "      <td>0.0</td>\n",
              "      <td>0.00</td>\n",
              "      <td>1.0</td>\n",
              "    </tr>\n",
              "    <tr>\n",
              "      <th>ps_ind_16_bin</th>\n",
              "      <td>595212.0</td>\n",
              "      <td>0.660823</td>\n",
              "      <td>0.473430</td>\n",
              "      <td>0.0</td>\n",
              "      <td>0.0</td>\n",
              "      <td>1.0</td>\n",
              "      <td>1.00</td>\n",
              "      <td>1.0</td>\n",
              "    </tr>\n",
              "    <tr>\n",
              "      <th>ps_ind_17_bin</th>\n",
              "      <td>595212.0</td>\n",
              "      <td>0.121081</td>\n",
              "      <td>0.326222</td>\n",
              "      <td>0.0</td>\n",
              "      <td>0.0</td>\n",
              "      <td>0.0</td>\n",
              "      <td>0.00</td>\n",
              "      <td>1.0</td>\n",
              "    </tr>\n",
              "    <tr>\n",
              "      <th>ps_ind_18_bin</th>\n",
              "      <td>595212.0</td>\n",
              "      <td>0.153446</td>\n",
              "      <td>0.360417</td>\n",
              "      <td>0.0</td>\n",
              "      <td>0.0</td>\n",
              "      <td>0.0</td>\n",
              "      <td>0.00</td>\n",
              "      <td>1.0</td>\n",
              "    </tr>\n",
              "  </tbody>\n",
              "</table>\n",
              "</div>"
            ],
            "text/plain": [
              "                  count           mean  ...         75%        max\n",
              "id             595212.0  743803.558435  ...  1115548.75  1488027.0\n",
              "target         595212.0       0.036448  ...        0.00        1.0\n",
              "ps_ind_06_bin  595212.0       0.393742  ...        1.00        1.0\n",
              "ps_ind_07_bin  595212.0       0.257033  ...        1.00        1.0\n",
              "ps_ind_08_bin  595212.0       0.163921  ...        0.00        1.0\n",
              "ps_ind_09_bin  595212.0       0.185304  ...        0.00        1.0\n",
              "ps_ind_10_bin  595212.0       0.000373  ...        0.00        1.0\n",
              "ps_ind_11_bin  595212.0       0.001692  ...        0.00        1.0\n",
              "ps_ind_12_bin  595212.0       0.009439  ...        0.00        1.0\n",
              "ps_ind_13_bin  595212.0       0.000948  ...        0.00        1.0\n",
              "ps_ind_16_bin  595212.0       0.660823  ...        1.00        1.0\n",
              "ps_ind_17_bin  595212.0       0.121081  ...        0.00        1.0\n",
              "ps_ind_18_bin  595212.0       0.153446  ...        0.00        1.0\n",
              "\n",
              "[13 rows x 8 columns]"
            ]
          },
          "metadata": {},
          "execution_count": 55
        }
      ]
    },
    {
      "cell_type": "code",
      "metadata": {
        "colab": {
          "base_uri": "https://localhost:8080/",
          "height": 283
        },
        "id": "4QA-Jx80s5oX",
        "outputId": "216c5ea3-56ec-42af-cd64-2db045dcdaed"
      },
      "source": [
        "df_ps_ind_bin.drop('id', axis=1).plot.box()"
      ],
      "execution_count": 56,
      "outputs": [
        {
          "output_type": "execute_result",
          "data": {
            "text/plain": [
              "<matplotlib.axes._subplots.AxesSubplot at 0x7fe543ffac10>"
            ]
          },
          "metadata": {},
          "execution_count": 56
        },
        {
          "output_type": "display_data",
          "data": {
            "image/png": "[encoded data removed]",
            "text/plain": [
              "<Figure size 432x288 with 1 Axes>"
            ]
          },
          "metadata": {
            "needs_background": "light"
          }
        }
      ]
    },
    {
      "cell_type": "code",
      "metadata": {
        "colab": {
          "base_uri": "https://localhost:8080/",
          "height": 1000
        },
        "id": "mvJ1K1z6C9wd",
        "outputId": "be8ad25d-cfca-475c-fc6f-9806bd343893"
      },
      "source": [
        "# Grupo 3: Index(['id', 'target', 'ps_ind_06_bin', 'ps_ind_07_bin', 'ps_ind_08_bin', 'ps_ind_09_bin', \n",
        "#                                 'ps_ind_10_bin', 'ps_ind_11_bin', 'ps_ind_12_bin', 'ps_ind_13_bin', 'ps_ind_16_bin', \n",
        "#                                 dtype='object')\n",
        "\n",
        "fig,ax = plt.subplots(3,3,figsize=(15,14),sharex='all')\n",
        "ax1,ax2,ax3,ax4,ax5,ax6,ax7,ax8,ax9 = ax.flatten()\n",
        "sns.countplot(df_ps_ind_bin['ps_ind_06_bin'],palette='rainbow',ax=ax1)\n",
        "sns.countplot(df_ps_ind_bin['ps_ind_07_bin'],palette='summer',ax=ax2)\n",
        "sns.countplot(df_ps_ind_bin['ps_ind_08_bin'],palette='gist_rainbow',ax=ax3)\n",
        "sns.countplot(df_ps_ind_bin['ps_ind_09_bin'],palette='summer',ax=ax4)\n",
        "sns.countplot(df_ps_ind_bin['ps_ind_10_bin'],palette='rainbow',ax=ax5)\n",
        "sns.countplot(df_ps_ind_bin['ps_ind_11_bin'],palette='gist_rainbow',ax=ax6)\n",
        "sns.countplot(df_ps_ind_bin['ps_ind_12_bin'],palette='coolwarm',ax=ax7)\n",
        "sns.countplot(df_ps_ind_bin['ps_ind_13_bin'],palette='gist_rainbow',ax=ax8)\n",
        "sns.countplot(df_ps_ind_bin['ps_ind_16_bin'],palette='rainbow',ax=ax9)"
      ],
      "execution_count": 59,
      "outputs": [
        {
          "output_type": "stream",
          "name": "stderr",
          "text": [
            "/usr/local/lib/python3.7/dist-packages/seaborn/_decorators.py:43: FutureWarning: Pass the following variable as a keyword arg: x. From version 0.12, the only valid positional argument will be `data`, and passing other arguments without an explicit keyword will result in an error or misinterpretation.\n",
            "  FutureWarning\n",
            "/usr/local/lib/python3.7/dist-packages/seaborn/_decorators.py:43: FutureWarning: Pass the following variable as a keyword arg: x. From version 0.12, the only valid positional argument will be `data`, and passing other arguments without an explicit keyword will result in an error or misinterpretation.\n",
            "  FutureWarning\n",
            "/usr/local/lib/python3.7/dist-packages/seaborn/_decorators.py:43: FutureWarning: Pass the following variable as a keyword arg: x. From version 0.12, the only valid positional argument will be `data`, and passing other arguments without an explicit keyword will result in an error or misinterpretation.\n",
            "  FutureWarning\n",
            "/usr/local/lib/python3.7/dist-packages/seaborn/_decorators.py:43: FutureWarning: Pass the following variable as a keyword arg: x. From version 0.12, the only valid positional argument will be `data`, and passing other arguments without an explicit keyword will result in an error or misinterpretation.\n",
            "  FutureWarning\n",
            "/usr/local/lib/python3.7/dist-packages/seaborn/_decorators.py:43: FutureWarning: Pass the following variable as a keyword arg: x. From version 0.12, the only valid positional argument will be `data`, and passing other arguments without an explicit keyword will result in an error or misinterpretation.\n",
            "  FutureWarning\n",
            "/usr/local/lib/python3.7/dist-packages/seaborn/_decorators.py:43: FutureWarning: Pass the following variable as a keyword arg: x. From version 0.12, the only valid positional argument will be `data`, and passing other arguments without an explicit keyword will result in an error or misinterpretation.\n",
            "  FutureWarning\n",
            "/usr/local/lib/python3.7/dist-packages/seaborn/_decorators.py:43: FutureWarning: Pass the following variable as a keyword arg: x. From version 0.12, the only valid positional argument will be `data`, and passing other arguments without an explicit keyword will result in an error or misinterpretation.\n",
            "  FutureWarning\n",
            "/usr/local/lib/python3.7/dist-packages/seaborn/_decorators.py:43: FutureWarning: Pass the following variable as a keyword arg: x. From version 0.12, the only valid positional argument will be `data`, and passing other arguments without an explicit keyword will result in an error or misinterpretation.\n",
            "  FutureWarning\n",
            "/usr/local/lib/python3.7/dist-packages/seaborn/_decorators.py:43: FutureWarning: Pass the following variable as a keyword arg: x. From version 0.12, the only valid positional argument will be `data`, and passing other arguments without an explicit keyword will result in an error or misinterpretation.\n",
            "  FutureWarning\n"
          ]
        },
        {
          "output_type": "execute_result",
          "data": {
            "text/plain": [
              "<matplotlib.axes._subplots.AxesSubplot at 0x7fe543aa3c90>"
            ]
          },
          "metadata": {},
          "execution_count": 59
        },
        {
          "output_type": "display_data",
          "data": {
            "image/png": "[encoded data removed]",
            "text/plain": [
              "<Figure size 1080x1008 with 9 Axes>"
            ]
          },
          "metadata": {
            "needs_background": "light"
          }
        }
      ]
    },
    {
      "cell_type": "markdown",
      "metadata": {
        "id": "5XALr0hJ7PWM"
      },
      "source": [
        "##**GRUPO 4**"
      ]
    },
    {
      "cell_type": "code",
      "metadata": {
        "id": "ohuZNytO5Wuh",
        "colab": {
          "base_uri": "https://localhost:8080/",
          "height": 297
        },
        "outputId": "f3c7c1da-5355-45f4-c70c-1b377c231848"
      },
      "source": [
        "df_ps_reg = df_train\n",
        "\n",
        "lista =  lista_ps_ind + lista_ps_ind_cat + lista_ps_ind_bin + lista_ps_car + lista_ps_car_cat + lista_ps_cal + lista_ps_cal_bin\n",
        "df_ps_reg = df_ps_reg.drop(lista, axis=1)\n",
        "\n",
        "df_ps_reg.describe()"
      ],
      "execution_count": null,
      "outputs": [
        {
          "output_type": "execute_result",
          "data": {
            "text/html": [
              "<div>\n",
              "<style scoped>\n",
              "    .dataframe tbody tr th:only-of-type {\n",
              "        vertical-align: middle;\n",
              "    }\n",
              "\n",
              "    .dataframe tbody tr th {\n",
              "        vertical-align: top;\n",
              "    }\n",
              "\n",
              "    .dataframe thead th {\n",
              "        text-align: right;\n",
              "    }\n",
              "</style>\n",
              "<table border=\"1\" class=\"dataframe\">\n",
              "  <thead>\n",
              "    <tr style=\"text-align: right;\">\n",
              "      <th></th>\n",
              "      <th>id</th>\n",
              "      <th>target</th>\n",
              "      <th>ps_reg_01</th>\n",
              "      <th>ps_reg_02</th>\n",
              "      <th>ps_reg_03</th>\n",
              "    </tr>\n",
              "  </thead>\n",
              "  <tbody>\n",
              "    <tr>\n",
              "      <th>count</th>\n",
              "      <td>5.952120e+05</td>\n",
              "      <td>595212.000000</td>\n",
              "      <td>595212.000000</td>\n",
              "      <td>595212.000000</td>\n",
              "      <td>595212.000000</td>\n",
              "    </tr>\n",
              "    <tr>\n",
              "      <th>mean</th>\n",
              "      <td>7.438036e+05</td>\n",
              "      <td>0.036448</td>\n",
              "      <td>0.610991</td>\n",
              "      <td>0.439184</td>\n",
              "      <td>0.551102</td>\n",
              "    </tr>\n",
              "    <tr>\n",
              "      <th>std</th>\n",
              "      <td>4.293678e+05</td>\n",
              "      <td>0.187401</td>\n",
              "      <td>0.287643</td>\n",
              "      <td>0.404264</td>\n",
              "      <td>0.793506</td>\n",
              "    </tr>\n",
              "    <tr>\n",
              "      <th>min</th>\n",
              "      <td>7.000000e+00</td>\n",
              "      <td>0.000000</td>\n",
              "      <td>0.000000</td>\n",
              "      <td>0.000000</td>\n",
              "      <td>-1.000000</td>\n",
              "    </tr>\n",
              "    <tr>\n",
              "      <th>25%</th>\n",
              "      <td>3.719915e+05</td>\n",
              "      <td>0.000000</td>\n",
              "      <td>0.400000</td>\n",
              "      <td>0.200000</td>\n",
              "      <td>0.525000</td>\n",
              "    </tr>\n",
              "    <tr>\n",
              "      <th>50%</th>\n",
              "      <td>7.435475e+05</td>\n",
              "      <td>0.000000</td>\n",
              "      <td>0.700000</td>\n",
              "      <td>0.300000</td>\n",
              "      <td>0.720677</td>\n",
              "    </tr>\n",
              "    <tr>\n",
              "      <th>75%</th>\n",
              "      <td>1.115549e+06</td>\n",
              "      <td>0.000000</td>\n",
              "      <td>0.900000</td>\n",
              "      <td>0.600000</td>\n",
              "      <td>1.000000</td>\n",
              "    </tr>\n",
              "    <tr>\n",
              "      <th>max</th>\n",
              "      <td>1.488027e+06</td>\n",
              "      <td>1.000000</td>\n",
              "      <td>0.900000</td>\n",
              "      <td>1.800000</td>\n",
              "      <td>4.037945</td>\n",
              "    </tr>\n",
              "  </tbody>\n",
              "</table>\n",
              "</div>"
            ],
            "text/plain": [
              "                 id         target      ps_reg_01      ps_reg_02      ps_reg_03\n",
              "count  5.952120e+05  595212.000000  595212.000000  595212.000000  595212.000000\n",
              "mean   7.438036e+05       0.036448       0.610991       0.439184       0.551102\n",
              "std    4.293678e+05       0.187401       0.287643       0.404264       0.793506\n",
              "min    7.000000e+00       0.000000       0.000000       0.000000      -1.000000\n",
              "25%    3.719915e+05       0.000000       0.400000       0.200000       0.525000\n",
              "50%    7.435475e+05       0.000000       0.700000       0.300000       0.720677\n",
              "75%    1.115549e+06       0.000000       0.900000       0.600000       1.000000\n",
              "max    1.488027e+06       1.000000       0.900000       1.800000       4.037945"
            ]
          },
          "metadata": {},
          "execution_count": 28
        }
      ]
    },
    {
      "cell_type": "code",
      "metadata": {
        "colab": {
          "base_uri": "https://localhost:8080/",
          "height": 283
        },
        "id": "4FhrmDMotAPF",
        "outputId": "12ba115c-3425-42cc-bf20-a42837995a9b"
      },
      "source": [
        "df_ps_reg.drop('id', axis=1).plot.box()"
      ],
      "execution_count": null,
      "outputs": [
        {
          "output_type": "execute_result",
          "data": {
            "text/plain": [
              "<matplotlib.axes._subplots.AxesSubplot at 0x7f09f4a7d890>"
            ]
          },
          "metadata": {},
          "execution_count": 29
        },
        {
          "output_type": "display_data",
          "data": {
            "image/png": "[encoded data removed]",
            "text/plain": [
              "<Figure size 432x288 with 1 Axes>"
            ]
          },
          "metadata": {
            "needs_background": "light"
          }
        }
      ]
    },
    {
      "cell_type": "markdown",
      "metadata": {
        "id": "9bCMnuRf7TQs"
      },
      "source": [
        "##**GRUPO 5**"
      ]
    },
    {
      "cell_type": "code",
      "metadata": {
        "id": "hqwlZT8P56v7",
        "colab": {
          "base_uri": "https://localhost:8080/",
          "height": 297
        },
        "outputId": "4ac60bad-3e0b-457c-ef2d-a9ee612883f0"
      },
      "source": [
        "df_ps_car = df_train\n",
        "\n",
        "lista =  lista_ps_ind + lista_ps_ind_cat + lista_ps_ind_bin + lista_ps_reg + lista_ps_car_cat + lista_ps_cal + lista_ps_cal_bin\n",
        "df_ps_car = df_ps_car.drop(lista, axis=1)\n",
        "\n",
        "df_ps_car.describe()"
      ],
      "execution_count": null,
      "outputs": [
        {
          "output_type": "execute_result",
          "data": {
            "text/html": [
              "<div>\n",
              "<style scoped>\n",
              "    .dataframe tbody tr th:only-of-type {\n",
              "        vertical-align: middle;\n",
              "    }\n",
              "\n",
              "    .dataframe tbody tr th {\n",
              "        vertical-align: top;\n",
              "    }\n",
              "\n",
              "    .dataframe thead th {\n",
              "        text-align: right;\n",
              "    }\n",
              "</style>\n",
              "<table border=\"1\" class=\"dataframe\">\n",
              "  <thead>\n",
              "    <tr style=\"text-align: right;\">\n",
              "      <th></th>\n",
              "      <th>id</th>\n",
              "      <th>target</th>\n",
              "      <th>ps_car_11</th>\n",
              "      <th>ps_car_12</th>\n",
              "      <th>ps_car_13</th>\n",
              "      <th>ps_car_14</th>\n",
              "      <th>ps_car_15</th>\n",
              "    </tr>\n",
              "  </thead>\n",
              "  <tbody>\n",
              "    <tr>\n",
              "      <th>count</th>\n",
              "      <td>5.952120e+05</td>\n",
              "      <td>595212.000000</td>\n",
              "      <td>595212.000000</td>\n",
              "      <td>595212.000000</td>\n",
              "      <td>595212.000000</td>\n",
              "      <td>595212.000000</td>\n",
              "      <td>595212.000000</td>\n",
              "    </tr>\n",
              "    <tr>\n",
              "      <th>mean</th>\n",
              "      <td>7.438036e+05</td>\n",
              "      <td>0.036448</td>\n",
              "      <td>2.346072</td>\n",
              "      <td>0.379945</td>\n",
              "      <td>0.813265</td>\n",
              "      <td>0.276256</td>\n",
              "      <td>3.065899</td>\n",
              "    </tr>\n",
              "    <tr>\n",
              "      <th>std</th>\n",
              "      <td>4.293678e+05</td>\n",
              "      <td>0.187401</td>\n",
              "      <td>0.832548</td>\n",
              "      <td>0.058327</td>\n",
              "      <td>0.224588</td>\n",
              "      <td>0.357154</td>\n",
              "      <td>0.731366</td>\n",
              "    </tr>\n",
              "    <tr>\n",
              "      <th>min</th>\n",
              "      <td>7.000000e+00</td>\n",
              "      <td>0.000000</td>\n",
              "      <td>-1.000000</td>\n",
              "      <td>-1.000000</td>\n",
              "      <td>0.250619</td>\n",
              "      <td>-1.000000</td>\n",
              "      <td>0.000000</td>\n",
              "    </tr>\n",
              "    <tr>\n",
              "      <th>25%</th>\n",
              "      <td>3.719915e+05</td>\n",
              "      <td>0.000000</td>\n",
              "      <td>2.000000</td>\n",
              "      <td>0.316228</td>\n",
              "      <td>0.670867</td>\n",
              "      <td>0.333167</td>\n",
              "      <td>2.828427</td>\n",
              "    </tr>\n",
              "    <tr>\n",
              "      <th>50%</th>\n",
              "      <td>7.435475e+05</td>\n",
              "      <td>0.000000</td>\n",
              "      <td>3.000000</td>\n",
              "      <td>0.374166</td>\n",
              "      <td>0.765811</td>\n",
              "      <td>0.368782</td>\n",
              "      <td>3.316625</td>\n",
              "    </tr>\n",
              "    <tr>\n",
              "      <th>75%</th>\n",
              "      <td>1.115549e+06</td>\n",
              "      <td>0.000000</td>\n",
              "      <td>3.000000</td>\n",
              "      <td>0.400000</td>\n",
              "      <td>0.906190</td>\n",
              "      <td>0.396485</td>\n",
              "      <td>3.605551</td>\n",
              "    </tr>\n",
              "    <tr>\n",
              "      <th>max</th>\n",
              "      <td>1.488027e+06</td>\n",
              "      <td>1.000000</td>\n",
              "      <td>3.000000</td>\n",
              "      <td>1.264911</td>\n",
              "      <td>3.720626</td>\n",
              "      <td>0.636396</td>\n",
              "      <td>3.741657</td>\n",
              "    </tr>\n",
              "  </tbody>\n",
              "</table>\n",
              "</div>"
            ],
            "text/plain": [
              "                 id         target  ...      ps_car_14      ps_car_15\n",
              "count  5.952120e+05  595212.000000  ...  595212.000000  595212.000000\n",
              "mean   7.438036e+05       0.036448  ...       0.276256       3.065899\n",
              "std    4.293678e+05       0.187401  ...       0.357154       0.731366\n",
              "min    7.000000e+00       0.000000  ...      -1.000000       0.000000\n",
              "25%    3.719915e+05       0.000000  ...       0.333167       2.828427\n",
              "50%    7.435475e+05       0.000000  ...       0.368782       3.316625\n",
              "75%    1.115549e+06       0.000000  ...       0.396485       3.605551\n",
              "max    1.488027e+06       1.000000  ...       0.636396       3.741657\n",
              "\n",
              "[8 rows x 7 columns]"
            ]
          },
          "metadata": {},
          "execution_count": 30
        }
      ]
    },
    {
      "cell_type": "code",
      "metadata": {
        "colab": {
          "base_uri": "https://localhost:8080/",
          "height": 283
        },
        "id": "0Wky_Fc6tH9F",
        "outputId": "03e41bae-8f00-4a9e-de05-3b18b457a111"
      },
      "source": [
        "df_ps_car.drop('id', axis=1).plot.box()"
      ],
      "execution_count": null,
      "outputs": [
        {
          "output_type": "execute_result",
          "data": {
            "text/plain": [
              "<matplotlib.axes._subplots.AxesSubplot at 0x7f09f49aded0>"
            ]
          },
          "metadata": {},
          "execution_count": 31
        },
        {
          "output_type": "display_data",
          "data": {
            "image/png": "[encoded data removed]",
            "text/plain": [
              "<Figure size 432x288 with 1 Axes>"
            ]
          },
          "metadata": {
            "needs_background": "light"
          }
        }
      ]
    },
    {
      "cell_type": "markdown",
      "metadata": {
        "id": "N6zCDYwU7YEB"
      },
      "source": [
        "##**GRUPO 6**"
      ]
    },
    {
      "cell_type": "code",
      "metadata": {
        "id": "X3y6fhPE6P_n",
        "colab": {
          "base_uri": "https://localhost:8080/",
          "height": 317
        },
        "outputId": "a32351c4-5b7e-4cc4-e12d-d66ca5a003fb"
      },
      "source": [
        "df_ps_car_cat = df_train\n",
        "\n",
        "lista =  lista_ps_ind + lista_ps_ind_cat + lista_ps_ind_bin + lista_ps_reg + lista_ps_car + lista_ps_cal + lista_ps_cal_bin\n",
        "df_ps_car_cat = df_ps_car_cat.drop(lista, axis=1)\n",
        "\n",
        "df_ps_car_cat.describe()"
      ],
      "execution_count": null,
      "outputs": [
        {
          "output_type": "execute_result",
          "data": {
            "text/html": [
              "<div>\n",
              "<style scoped>\n",
              "    .dataframe tbody tr th:only-of-type {\n",
              "        vertical-align: middle;\n",
              "    }\n",
              "\n",
              "    .dataframe tbody tr th {\n",
              "        vertical-align: top;\n",
              "    }\n",
              "\n",
              "    .dataframe thead th {\n",
              "        text-align: right;\n",
              "    }\n",
              "</style>\n",
              "<table border=\"1\" class=\"dataframe\">\n",
              "  <thead>\n",
              "    <tr style=\"text-align: right;\">\n",
              "      <th></th>\n",
              "      <th>id</th>\n",
              "      <th>target</th>\n",
              "      <th>ps_car_01_cat</th>\n",
              "      <th>ps_car_02_cat</th>\n",
              "      <th>ps_car_03_cat</th>\n",
              "      <th>ps_car_04_cat</th>\n",
              "      <th>ps_car_05_cat</th>\n",
              "      <th>ps_car_06_cat</th>\n",
              "      <th>ps_car_07_cat</th>\n",
              "      <th>ps_car_08_cat</th>\n",
              "      <th>ps_car_09_cat</th>\n",
              "      <th>ps_car_10_cat</th>\n",
              "      <th>ps_car_11_cat</th>\n",
              "    </tr>\n",
              "  </thead>\n",
              "  <tbody>\n",
              "    <tr>\n",
              "      <th>count</th>\n",
              "      <td>5.952120e+05</td>\n",
              "      <td>595212.000000</td>\n",
              "      <td>595212.000000</td>\n",
              "      <td>595212.000000</td>\n",
              "      <td>595212.000000</td>\n",
              "      <td>595212.000000</td>\n",
              "      <td>595212.000000</td>\n",
              "      <td>595212.000000</td>\n",
              "      <td>595212.000000</td>\n",
              "      <td>595212.000000</td>\n",
              "      <td>595212.000000</td>\n",
              "      <td>595212.000000</td>\n",
              "      <td>595212.000000</td>\n",
              "    </tr>\n",
              "    <tr>\n",
              "      <th>mean</th>\n",
              "      <td>7.438036e+05</td>\n",
              "      <td>0.036448</td>\n",
              "      <td>8.295933</td>\n",
              "      <td>0.829931</td>\n",
              "      <td>-0.504899</td>\n",
              "      <td>0.725192</td>\n",
              "      <td>-0.157732</td>\n",
              "      <td>6.555340</td>\n",
              "      <td>0.910027</td>\n",
              "      <td>0.832080</td>\n",
              "      <td>1.328890</td>\n",
              "      <td>0.992136</td>\n",
              "      <td>62.215674</td>\n",
              "    </tr>\n",
              "    <tr>\n",
              "      <th>std</th>\n",
              "      <td>4.293678e+05</td>\n",
              "      <td>0.187401</td>\n",
              "      <td>2.508270</td>\n",
              "      <td>0.375716</td>\n",
              "      <td>0.788654</td>\n",
              "      <td>2.153463</td>\n",
              "      <td>0.844417</td>\n",
              "      <td>5.501445</td>\n",
              "      <td>0.347106</td>\n",
              "      <td>0.373796</td>\n",
              "      <td>0.978747</td>\n",
              "      <td>0.091619</td>\n",
              "      <td>33.012455</td>\n",
              "    </tr>\n",
              "    <tr>\n",
              "      <th>min</th>\n",
              "      <td>7.000000e+00</td>\n",
              "      <td>0.000000</td>\n",
              "      <td>-1.000000</td>\n",
              "      <td>-1.000000</td>\n",
              "      <td>-1.000000</td>\n",
              "      <td>0.000000</td>\n",
              "      <td>-1.000000</td>\n",
              "      <td>0.000000</td>\n",
              "      <td>-1.000000</td>\n",
              "      <td>0.000000</td>\n",
              "      <td>-1.000000</td>\n",
              "      <td>0.000000</td>\n",
              "      <td>1.000000</td>\n",
              "    </tr>\n",
              "    <tr>\n",
              "      <th>25%</th>\n",
              "      <td>3.719915e+05</td>\n",
              "      <td>0.000000</td>\n",
              "      <td>7.000000</td>\n",
              "      <td>1.000000</td>\n",
              "      <td>-1.000000</td>\n",
              "      <td>0.000000</td>\n",
              "      <td>-1.000000</td>\n",
              "      <td>1.000000</td>\n",
              "      <td>1.000000</td>\n",
              "      <td>1.000000</td>\n",
              "      <td>0.000000</td>\n",
              "      <td>1.000000</td>\n",
              "      <td>32.000000</td>\n",
              "    </tr>\n",
              "    <tr>\n",
              "      <th>50%</th>\n",
              "      <td>7.435475e+05</td>\n",
              "      <td>0.000000</td>\n",
              "      <td>7.000000</td>\n",
              "      <td>1.000000</td>\n",
              "      <td>-1.000000</td>\n",
              "      <td>0.000000</td>\n",
              "      <td>0.000000</td>\n",
              "      <td>7.000000</td>\n",
              "      <td>1.000000</td>\n",
              "      <td>1.000000</td>\n",
              "      <td>2.000000</td>\n",
              "      <td>1.000000</td>\n",
              "      <td>65.000000</td>\n",
              "    </tr>\n",
              "    <tr>\n",
              "      <th>75%</th>\n",
              "      <td>1.115549e+06</td>\n",
              "      <td>0.000000</td>\n",
              "      <td>11.000000</td>\n",
              "      <td>1.000000</td>\n",
              "      <td>0.000000</td>\n",
              "      <td>0.000000</td>\n",
              "      <td>1.000000</td>\n",
              "      <td>11.000000</td>\n",
              "      <td>1.000000</td>\n",
              "      <td>1.000000</td>\n",
              "      <td>2.000000</td>\n",
              "      <td>1.000000</td>\n",
              "      <td>93.000000</td>\n",
              "    </tr>\n",
              "    <tr>\n",
              "      <th>max</th>\n",
              "      <td>1.488027e+06</td>\n",
              "      <td>1.000000</td>\n",
              "      <td>11.000000</td>\n",
              "      <td>1.000000</td>\n",
              "      <td>1.000000</td>\n",
              "      <td>9.000000</td>\n",
              "      <td>1.000000</td>\n",
              "      <td>17.000000</td>\n",
              "      <td>1.000000</td>\n",
              "      <td>1.000000</td>\n",
              "      <td>4.000000</td>\n",
              "      <td>2.000000</td>\n",
              "      <td>104.000000</td>\n",
              "    </tr>\n",
              "  </tbody>\n",
              "</table>\n",
              "</div>"
            ],
            "text/plain": [
              "                 id         target  ...  ps_car_10_cat  ps_car_11_cat\n",
              "count  5.952120e+05  595212.000000  ...  595212.000000  595212.000000\n",
              "mean   7.438036e+05       0.036448  ...       0.992136      62.215674\n",
              "std    4.293678e+05       0.187401  ...       0.091619      33.012455\n",
              "min    7.000000e+00       0.000000  ...       0.000000       1.000000\n",
              "25%    3.719915e+05       0.000000  ...       1.000000      32.000000\n",
              "50%    7.435475e+05       0.000000  ...       1.000000      65.000000\n",
              "75%    1.115549e+06       0.000000  ...       1.000000      93.000000\n",
              "max    1.488027e+06       1.000000  ...       2.000000     104.000000\n",
              "\n",
              "[8 rows x 13 columns]"
            ]
          },
          "metadata": {},
          "execution_count": 32
        }
      ]
    },
    {
      "cell_type": "code",
      "metadata": {
        "colab": {
          "base_uri": "https://localhost:8080/",
          "height": 283
        },
        "id": "PRL7RLogtPFj",
        "outputId": "7d6ac70a-f81b-4676-a034-50d680a279fe"
      },
      "source": [
        "df_ps_car_cat.drop('id', axis=1).plot.box()"
      ],
      "execution_count": null,
      "outputs": [
        {
          "output_type": "execute_result",
          "data": {
            "text/plain": [
              "<matplotlib.axes._subplots.AxesSubplot at 0x7f09f488a110>"
            ]
          },
          "metadata": {},
          "execution_count": 33
        },
        {
          "output_type": "display_data",
          "data": {
            "image/png": "[encoded data removed]",
            "text/plain": [
              "<Figure size 432x288 with 1 Axes>"
            ]
          },
          "metadata": {
            "needs_background": "light"
          }
        }
      ]
    },
    {
      "cell_type": "markdown",
      "metadata": {
        "id": "EaY5f1RQttyD"
      },
      "source": [
        "Possível ver que a coluna com valores totalmente fora do padrão das demais é a \"ps_car_11_cat\", que possui valores listados de \"0\" à \"100\""
      ]
    },
    {
      "cell_type": "markdown",
      "metadata": {
        "id": "hAQu0kWk7bKy"
      },
      "source": [
        "##**GRUPO 7**"
      ]
    },
    {
      "cell_type": "code",
      "metadata": {
        "id": "_lnCWz9k6jD7",
        "colab": {
          "base_uri": "https://localhost:8080/",
          "height": 317
        },
        "outputId": "ddd9b118-f54f-4439-ea0e-179a79afab96"
      },
      "source": [
        "df_ps_cal = df_train\n",
        "\n",
        "lista =  lista_ps_ind + lista_ps_ind_cat + lista_ps_ind_bin + lista_ps_reg + lista_ps_car + lista_ps_car_cat + lista_ps_cal_bin\n",
        "df_ps_cal = df_ps_cal.drop(lista, axis=1)\n",
        "\n",
        "df_ps_cal.describe()"
      ],
      "execution_count": null,
      "outputs": [
        {
          "output_type": "execute_result",
          "data": {
            "text/html": [
              "<div>\n",
              "<style scoped>\n",
              "    .dataframe tbody tr th:only-of-type {\n",
              "        vertical-align: middle;\n",
              "    }\n",
              "\n",
              "    .dataframe tbody tr th {\n",
              "        vertical-align: top;\n",
              "    }\n",
              "\n",
              "    .dataframe thead th {\n",
              "        text-align: right;\n",
              "    }\n",
              "</style>\n",
              "<table border=\"1\" class=\"dataframe\">\n",
              "  <thead>\n",
              "    <tr style=\"text-align: right;\">\n",
              "      <th></th>\n",
              "      <th>id</th>\n",
              "      <th>target</th>\n",
              "      <th>ps_calc_01</th>\n",
              "      <th>ps_calc_02</th>\n",
              "      <th>ps_calc_03</th>\n",
              "      <th>ps_calc_04</th>\n",
              "      <th>ps_calc_05</th>\n",
              "      <th>ps_calc_06</th>\n",
              "      <th>ps_calc_07</th>\n",
              "      <th>ps_calc_08</th>\n",
              "      <th>ps_calc_09</th>\n",
              "      <th>ps_calc_10</th>\n",
              "      <th>ps_calc_11</th>\n",
              "      <th>ps_calc_12</th>\n",
              "      <th>ps_calc_13</th>\n",
              "      <th>ps_calc_14</th>\n",
              "    </tr>\n",
              "  </thead>\n",
              "  <tbody>\n",
              "    <tr>\n",
              "      <th>count</th>\n",
              "      <td>5.952120e+05</td>\n",
              "      <td>595212.000000</td>\n",
              "      <td>595212.000000</td>\n",
              "      <td>595212.000000</td>\n",
              "      <td>595212.000000</td>\n",
              "      <td>595212.000000</td>\n",
              "      <td>595212.000000</td>\n",
              "      <td>595212.000000</td>\n",
              "      <td>595212.000000</td>\n",
              "      <td>595212.000000</td>\n",
              "      <td>595212.000000</td>\n",
              "      <td>595212.000000</td>\n",
              "      <td>595212.000000</td>\n",
              "      <td>595212.000000</td>\n",
              "      <td>595212.000000</td>\n",
              "      <td>595212.000000</td>\n",
              "    </tr>\n",
              "    <tr>\n",
              "      <th>mean</th>\n",
              "      <td>7.438036e+05</td>\n",
              "      <td>0.036448</td>\n",
              "      <td>0.449756</td>\n",
              "      <td>0.449589</td>\n",
              "      <td>0.449849</td>\n",
              "      <td>2.372081</td>\n",
              "      <td>1.885886</td>\n",
              "      <td>7.689445</td>\n",
              "      <td>3.005823</td>\n",
              "      <td>9.225904</td>\n",
              "      <td>2.339034</td>\n",
              "      <td>8.433590</td>\n",
              "      <td>5.441382</td>\n",
              "      <td>1.441918</td>\n",
              "      <td>2.872288</td>\n",
              "      <td>7.539026</td>\n",
              "    </tr>\n",
              "    <tr>\n",
              "      <th>std</th>\n",
              "      <td>4.293678e+05</td>\n",
              "      <td>0.187401</td>\n",
              "      <td>0.287198</td>\n",
              "      <td>0.286893</td>\n",
              "      <td>0.287153</td>\n",
              "      <td>1.117219</td>\n",
              "      <td>1.134927</td>\n",
              "      <td>1.334312</td>\n",
              "      <td>1.414564</td>\n",
              "      <td>1.459672</td>\n",
              "      <td>1.246949</td>\n",
              "      <td>2.904597</td>\n",
              "      <td>2.332871</td>\n",
              "      <td>1.202963</td>\n",
              "      <td>1.694887</td>\n",
              "      <td>2.746652</td>\n",
              "    </tr>\n",
              "    <tr>\n",
              "      <th>min</th>\n",
              "      <td>7.000000e+00</td>\n",
              "      <td>0.000000</td>\n",
              "      <td>0.000000</td>\n",
              "      <td>0.000000</td>\n",
              "      <td>0.000000</td>\n",
              "      <td>0.000000</td>\n",
              "      <td>0.000000</td>\n",
              "      <td>0.000000</td>\n",
              "      <td>0.000000</td>\n",
              "      <td>2.000000</td>\n",
              "      <td>0.000000</td>\n",
              "      <td>0.000000</td>\n",
              "      <td>0.000000</td>\n",
              "      <td>0.000000</td>\n",
              "      <td>0.000000</td>\n",
              "      <td>0.000000</td>\n",
              "    </tr>\n",
              "    <tr>\n",
              "      <th>25%</th>\n",
              "      <td>3.719915e+05</td>\n",
              "      <td>0.000000</td>\n",
              "      <td>0.200000</td>\n",
              "      <td>0.200000</td>\n",
              "      <td>0.200000</td>\n",
              "      <td>2.000000</td>\n",
              "      <td>1.000000</td>\n",
              "      <td>7.000000</td>\n",
              "      <td>2.000000</td>\n",
              "      <td>8.000000</td>\n",
              "      <td>1.000000</td>\n",
              "      <td>6.000000</td>\n",
              "      <td>4.000000</td>\n",
              "      <td>1.000000</td>\n",
              "      <td>2.000000</td>\n",
              "      <td>6.000000</td>\n",
              "    </tr>\n",
              "    <tr>\n",
              "      <th>50%</th>\n",
              "      <td>7.435475e+05</td>\n",
              "      <td>0.000000</td>\n",
              "      <td>0.500000</td>\n",
              "      <td>0.400000</td>\n",
              "      <td>0.500000</td>\n",
              "      <td>2.000000</td>\n",
              "      <td>2.000000</td>\n",
              "      <td>8.000000</td>\n",
              "      <td>3.000000</td>\n",
              "      <td>9.000000</td>\n",
              "      <td>2.000000</td>\n",
              "      <td>8.000000</td>\n",
              "      <td>5.000000</td>\n",
              "      <td>1.000000</td>\n",
              "      <td>3.000000</td>\n",
              "      <td>7.000000</td>\n",
              "    </tr>\n",
              "    <tr>\n",
              "      <th>75%</th>\n",
              "      <td>1.115549e+06</td>\n",
              "      <td>0.000000</td>\n",
              "      <td>0.700000</td>\n",
              "      <td>0.700000</td>\n",
              "      <td>0.700000</td>\n",
              "      <td>3.000000</td>\n",
              "      <td>3.000000</td>\n",
              "      <td>9.000000</td>\n",
              "      <td>4.000000</td>\n",
              "      <td>10.000000</td>\n",
              "      <td>3.000000</td>\n",
              "      <td>10.000000</td>\n",
              "      <td>7.000000</td>\n",
              "      <td>2.000000</td>\n",
              "      <td>4.000000</td>\n",
              "      <td>9.000000</td>\n",
              "    </tr>\n",
              "    <tr>\n",
              "      <th>max</th>\n",
              "      <td>1.488027e+06</td>\n",
              "      <td>1.000000</td>\n",
              "      <td>0.900000</td>\n",
              "      <td>0.900000</td>\n",
              "      <td>0.900000</td>\n",
              "      <td>5.000000</td>\n",
              "      <td>6.000000</td>\n",
              "      <td>10.000000</td>\n",
              "      <td>9.000000</td>\n",
              "      <td>12.000000</td>\n",
              "      <td>7.000000</td>\n",
              "      <td>25.000000</td>\n",
              "      <td>19.000000</td>\n",
              "      <td>10.000000</td>\n",
              "      <td>13.000000</td>\n",
              "      <td>23.000000</td>\n",
              "    </tr>\n",
              "  </tbody>\n",
              "</table>\n",
              "</div>"
            ],
            "text/plain": [
              "                 id         target  ...     ps_calc_13     ps_calc_14\n",
              "count  5.952120e+05  595212.000000  ...  595212.000000  595212.000000\n",
              "mean   7.438036e+05       0.036448  ...       2.872288       7.539026\n",
              "std    4.293678e+05       0.187401  ...       1.694887       2.746652\n",
              "min    7.000000e+00       0.000000  ...       0.000000       0.000000\n",
              "25%    3.719915e+05       0.000000  ...       2.000000       6.000000\n",
              "50%    7.435475e+05       0.000000  ...       3.000000       7.000000\n",
              "75%    1.115549e+06       0.000000  ...       4.000000       9.000000\n",
              "max    1.488027e+06       1.000000  ...      13.000000      23.000000\n",
              "\n",
              "[8 rows x 16 columns]"
            ]
          },
          "metadata": {},
          "execution_count": 34
        }
      ]
    },
    {
      "cell_type": "code",
      "metadata": {
        "colab": {
          "base_uri": "https://localhost:8080/",
          "height": 283
        },
        "id": "o8H5LRKLtbMj",
        "outputId": "a8e64304-4bf3-433c-b235-6ad52807c6e1"
      },
      "source": [
        "df_ps_cal.drop('id', axis=1).plot.box()"
      ],
      "execution_count": null,
      "outputs": [
        {
          "output_type": "execute_result",
          "data": {
            "text/plain": [
              "<matplotlib.axes._subplots.AxesSubplot at 0x7f09f4729e10>"
            ]
          },
          "metadata": {},
          "execution_count": 35
        },
        {
          "output_type": "display_data",
          "data": {
            "image/png": "[encoded data removed]",
            "text/plain": [
              "<Figure size 432x288 with 1 Axes>"
            ]
          },
          "metadata": {
            "needs_background": "light"
          }
        }
      ]
    },
    {
      "cell_type": "markdown",
      "metadata": {
        "id": "nN3eUdkF7eWS"
      },
      "source": [
        "##**GRUPO 8**"
      ]
    },
    {
      "cell_type": "code",
      "metadata": {
        "id": "cFYX00zE6xbB",
        "colab": {
          "base_uri": "https://localhost:8080/",
          "height": 297
        },
        "outputId": "d82fcb11-c26c-4f9e-bcb2-4e838102781f"
      },
      "source": [
        "df_ps_cal_bin = df_train\n",
        "\n",
        "lista =  lista_ps_ind + lista_ps_ind_cat + lista_ps_ind_bin + lista_ps_reg + lista_ps_car + lista_ps_car_cat + lista_ps_cal\n",
        "df_ps_cal_bin = df_ps_cal_bin.drop(lista, axis=1)\n",
        "\n",
        "df_ps_cal_bin.describe()"
      ],
      "execution_count": null,
      "outputs": [
        {
          "output_type": "execute_result",
          "data": {
            "text/html": [
              "<div>\n",
              "<style scoped>\n",
              "    .dataframe tbody tr th:only-of-type {\n",
              "        vertical-align: middle;\n",
              "    }\n",
              "\n",
              "    .dataframe tbody tr th {\n",
              "        vertical-align: top;\n",
              "    }\n",
              "\n",
              "    .dataframe thead th {\n",
              "        text-align: right;\n",
              "    }\n",
              "</style>\n",
              "<table border=\"1\" class=\"dataframe\">\n",
              "  <thead>\n",
              "    <tr style=\"text-align: right;\">\n",
              "      <th></th>\n",
              "      <th>id</th>\n",
              "      <th>target</th>\n",
              "      <th>ps_calc_15_bin</th>\n",
              "      <th>ps_calc_16_bin</th>\n",
              "      <th>ps_calc_17_bin</th>\n",
              "      <th>ps_calc_18_bin</th>\n",
              "      <th>ps_calc_19_bin</th>\n",
              "      <th>ps_calc_20_bin</th>\n",
              "    </tr>\n",
              "  </thead>\n",
              "  <tbody>\n",
              "    <tr>\n",
              "      <th>count</th>\n",
              "      <td>5.952120e+05</td>\n",
              "      <td>595212.000000</td>\n",
              "      <td>595212.000000</td>\n",
              "      <td>595212.000000</td>\n",
              "      <td>595212.000000</td>\n",
              "      <td>595212.000000</td>\n",
              "      <td>595212.000000</td>\n",
              "      <td>595212.000000</td>\n",
              "    </tr>\n",
              "    <tr>\n",
              "      <th>mean</th>\n",
              "      <td>7.438036e+05</td>\n",
              "      <td>0.036448</td>\n",
              "      <td>0.122427</td>\n",
              "      <td>0.627840</td>\n",
              "      <td>0.554182</td>\n",
              "      <td>0.287182</td>\n",
              "      <td>0.349024</td>\n",
              "      <td>0.153318</td>\n",
              "    </tr>\n",
              "    <tr>\n",
              "      <th>std</th>\n",
              "      <td>4.293678e+05</td>\n",
              "      <td>0.187401</td>\n",
              "      <td>0.327779</td>\n",
              "      <td>0.483381</td>\n",
              "      <td>0.497056</td>\n",
              "      <td>0.452447</td>\n",
              "      <td>0.476662</td>\n",
              "      <td>0.360295</td>\n",
              "    </tr>\n",
              "    <tr>\n",
              "      <th>min</th>\n",
              "      <td>7.000000e+00</td>\n",
              "      <td>0.000000</td>\n",
              "      <td>0.000000</td>\n",
              "      <td>0.000000</td>\n",
              "      <td>0.000000</td>\n",
              "      <td>0.000000</td>\n",
              "      <td>0.000000</td>\n",
              "      <td>0.000000</td>\n",
              "    </tr>\n",
              "    <tr>\n",
              "      <th>25%</th>\n",
              "      <td>3.719915e+05</td>\n",
              "      <td>0.000000</td>\n",
              "      <td>0.000000</td>\n",
              "      <td>0.000000</td>\n",
              "      <td>0.000000</td>\n",
              "      <td>0.000000</td>\n",
              "      <td>0.000000</td>\n",
              "      <td>0.000000</td>\n",
              "    </tr>\n",
              "    <tr>\n",
              "      <th>50%</th>\n",
              "      <td>7.435475e+05</td>\n",
              "      <td>0.000000</td>\n",
              "      <td>0.000000</td>\n",
              "      <td>1.000000</td>\n",
              "      <td>1.000000</td>\n",
              "      <td>0.000000</td>\n",
              "      <td>0.000000</td>\n",
              "      <td>0.000000</td>\n",
              "    </tr>\n",
              "    <tr>\n",
              "      <th>75%</th>\n",
              "      <td>1.115549e+06</td>\n",
              "      <td>0.000000</td>\n",
              "      <td>0.000000</td>\n",
              "      <td>1.000000</td>\n",
              "      <td>1.000000</td>\n",
              "      <td>1.000000</td>\n",
              "      <td>1.000000</td>\n",
              "      <td>0.000000</td>\n",
              "    </tr>\n",
              "    <tr>\n",
              "      <th>max</th>\n",
              "      <td>1.488027e+06</td>\n",
              "      <td>1.000000</td>\n",
              "      <td>1.000000</td>\n",
              "      <td>1.000000</td>\n",
              "      <td>1.000000</td>\n",
              "      <td>1.000000</td>\n",
              "      <td>1.000000</td>\n",
              "      <td>1.000000</td>\n",
              "    </tr>\n",
              "  </tbody>\n",
              "</table>\n",
              "</div>"
            ],
            "text/plain": [
              "                 id         target  ...  ps_calc_19_bin  ps_calc_20_bin\n",
              "count  5.952120e+05  595212.000000  ...   595212.000000   595212.000000\n",
              "mean   7.438036e+05       0.036448  ...        0.349024        0.153318\n",
              "std    4.293678e+05       0.187401  ...        0.476662        0.360295\n",
              "min    7.000000e+00       0.000000  ...        0.000000        0.000000\n",
              "25%    3.719915e+05       0.000000  ...        0.000000        0.000000\n",
              "50%    7.435475e+05       0.000000  ...        0.000000        0.000000\n",
              "75%    1.115549e+06       0.000000  ...        1.000000        0.000000\n",
              "max    1.488027e+06       1.000000  ...        1.000000        1.000000\n",
              "\n",
              "[8 rows x 8 columns]"
            ]
          },
          "metadata": {},
          "execution_count": 36
        }
      ]
    },
    {
      "cell_type": "code",
      "metadata": {
        "colab": {
          "base_uri": "https://localhost:8080/",
          "height": 283
        },
        "id": "McLkNdD0tg64",
        "outputId": "6defa406-0828-43b5-d2aa-af8c71debf96"
      },
      "source": [
        "df_ps_cal_bin.drop('id', axis=1).plot.box()"
      ],
      "execution_count": null,
      "outputs": [
        {
          "output_type": "execute_result",
          "data": {
            "text/plain": [
              "<matplotlib.axes._subplots.AxesSubplot at 0x7f09f4571610>"
            ]
          },
          "metadata": {},
          "execution_count": 37
        },
        {
          "output_type": "display_data",
          "data": {
            "image/png": "[encoded data removed]",
            "text/plain": [
              "<Figure size 432x288 with 1 Axes>"
            ]
          },
          "metadata": {
            "needs_background": "light"
          }
        }
      ]
    },
    {
      "cell_type": "markdown",
      "metadata": {
        "id": "fKzDVgg_oDX9"
      },
      "source": [
        "# ARQUIVO DE TESTE\n",
        "\n",
        "\n",
        "---\n",
        "\n"
      ]
    },
    {
      "cell_type": "code",
      "metadata": {
        "id": "ygJ5RUQzWP2U"
      },
      "source": [
        "url = 'https://raw.githubusercontent.com/danilosrm/projeto_MDD/main/00%20-%20FONTES/02%20-%20TEST/test_01.csv'\n",
        "  \n",
        "df_test = pd.read_csv(url, error_bad_lines=False, delimiter=';')\n",
        "  \n",
        "url = 'https://raw.githubusercontent.com/danilosrm/projeto_MDD/main/00%20-%20FONTES/02%20-%20TEST/test_02.csv'\n",
        "  \n",
        "df2_test = pd.read_csv(url, error_bad_lines=False, delimiter=';')\n",
        "  \n",
        "df_test = df_test.append(df2_test)"
      ],
      "execution_count": null,
      "outputs": []
    },
    {
      "cell_type": "code",
      "metadata": {
        "id": "Rq8_qYzldAxi"
      },
      "source": [
        "df_test.columns"
      ],
      "execution_count": null,
      "outputs": []
    },
    {
      "cell_type": "code",
      "metadata": {
        "id": "uwyteuv7VveJ"
      },
      "source": [
        "df_test.info()"
      ],
      "execution_count": null,
      "outputs": []
    }
  ]
}