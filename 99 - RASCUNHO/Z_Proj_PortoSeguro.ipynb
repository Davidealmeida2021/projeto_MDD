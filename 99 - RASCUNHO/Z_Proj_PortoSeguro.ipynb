{
  "nbformat": 4,
  "nbformat_minor": 0,
  "metadata": {
    "colab": {
      "name": "Z_Proj_PortoSeguro.ipynb",
      "provenance": [],
      "collapsed_sections": []
    },
    "kernelspec": {
      "name": "python3",
      "display_name": "Python 3"
    },
    "language_info": {
      "name": "python"
    }
  },
  "cells": [
    {
      "cell_type": "code",
      "metadata": {
        "id": "oKFLdcHhRmzt"
      },
      "source": [
        "import pandas as pd"
      ],
      "execution_count": 2,
      "outputs": []
    },
    {
      "cell_type": "code",
      "metadata": {
        "id": "ygJ5RUQzWP2U"
      },
      "source": [
        "url = 'https://raw.githubusercontent.com/danilosrm/projeto_MDD/main/00%20-%20FONTES/02%20-%20TEST/test_01.csv'\n",
        "  \n",
        "df_test = pd.read_csv(url, error_bad_lines=False, delimiter=';')\n",
        "  \n",
        "url = 'https://raw.githubusercontent.com/danilosrm/projeto_MDD/main/00%20-%20FONTES/02%20-%20TEST/test_02.csv'\n",
        "  \n",
        "df2_test = pd.read_csv(url, error_bad_lines=False, delimiter=';')\n",
        "  \n",
        "df_test = df_test.append(df2_test)"
      ],
      "execution_count": 3,
      "outputs": []
    },
    {
      "cell_type": "code",
      "metadata": {
        "id": "orCGYXOcVoOK",
        "colab": {
          "base_uri": "https://localhost:8080/"
        },
        "outputId": "563a47e5-2893-4d26-e9e7-b4d0cbcfd00e"
      },
      "source": [
        "df_test.info(0)"
      ],
      "execution_count": 11,
      "outputs": [
        {
          "output_type": "stream",
          "name": "stdout",
          "text": [
            "<class 'pandas.core.frame.DataFrame'>\n",
            "Int64Index: 892816 entries, 0 to 446408\n",
            "Data columns (total 58 columns):\n",
            " #   Column          Non-Null Count   Dtype  \n",
            "---  ------          --------------   -----  \n",
            " 0   id              892816 non-null  int64  \n",
            " 1   ps_ind_01       892816 non-null  int64  \n",
            " 2   ps_ind_02_cat   892816 non-null  int64  \n",
            " 3   ps_ind_03       892816 non-null  int64  \n",
            " 4   ps_ind_04_cat   892816 non-null  int64  \n",
            " 5   ps_ind_05_cat   892816 non-null  int64  \n",
            " 6   ps_ind_06_bin   892816 non-null  int64  \n",
            " 7   ps_ind_07_bin   892816 non-null  int64  \n",
            " 8   ps_ind_08_bin   892816 non-null  int64  \n",
            " 9   ps_ind_09_bin   892816 non-null  int64  \n",
            " 10  ps_ind_10_bin   892816 non-null  int64  \n",
            " 11  ps_ind_11_bin   892816 non-null  int64  \n",
            " 12  ps_ind_12_bin   892816 non-null  int64  \n",
            " 13  ps_ind_13_bin   892816 non-null  int64  \n",
            " 14  ps_ind_14       892816 non-null  int64  \n",
            " 15  ps_ind_15       892816 non-null  int64  \n",
            " 16  ps_ind_16_bin   892816 non-null  int64  \n",
            " 17  ps_ind_17_bin   892816 non-null  int64  \n",
            " 18  ps_ind_18_bin   892816 non-null  int64  \n",
            " 19  ps_reg_01       892816 non-null  float64\n",
            " 20  ps_reg_02       892816 non-null  float64\n",
            " 21  ps_reg_03       892816 non-null  float64\n",
            " 22  ps_car_01_cat   892816 non-null  int64  \n",
            " 23  ps_car_02_cat   892816 non-null  int64  \n",
            " 24  ps_car_03_cat   892816 non-null  int64  \n",
            " 25  ps_car_04_cat   892816 non-null  int64  \n",
            " 26  ps_car_05_cat   892816 non-null  int64  \n",
            " 27  ps_car_06_cat   892816 non-null  int64  \n",
            " 28  ps_car_07_cat   892816 non-null  int64  \n",
            " 29  ps_car_08_cat   892816 non-null  int64  \n",
            " 30  ps_car_09_cat   892816 non-null  int64  \n",
            " 31  ps_car_10_cat   892816 non-null  int64  \n",
            " 32  ps_car_11_cat   892816 non-null  int64  \n",
            " 33  ps_car_11       892816 non-null  int64  \n",
            " 34  ps_car_12       892816 non-null  float64\n",
            " 35  ps_car_13       892816 non-null  float64\n",
            " 36  ps_car_14       892816 non-null  float64\n",
            " 37  ps_car_15       892816 non-null  float64\n",
            " 38  ps_calc_01      892816 non-null  float64\n",
            " 39  ps_calc_02      892816 non-null  float64\n",
            " 40  ps_calc_03      892816 non-null  float64\n",
            " 41  ps_calc_04      892816 non-null  int64  \n",
            " 42  ps_calc_05      892816 non-null  int64  \n",
            " 43  ps_calc_06      892816 non-null  int64  \n",
            " 44  ps_calc_07      892816 non-null  int64  \n",
            " 45  ps_calc_08      892816 non-null  int64  \n",
            " 46  ps_calc_09      892816 non-null  int64  \n",
            " 47  ps_calc_10      892816 non-null  int64  \n",
            " 48  ps_calc_11      892816 non-null  int64  \n",
            " 49  ps_calc_12      892816 non-null  int64  \n",
            " 50  ps_calc_13      892816 non-null  int64  \n",
            " 51  ps_calc_14      892816 non-null  int64  \n",
            " 52  ps_calc_15_bin  892816 non-null  int64  \n",
            " 53  ps_calc_16_bin  892816 non-null  int64  \n",
            " 54  ps_calc_17_bin  892816 non-null  int64  \n",
            " 55  ps_calc_18_bin  892816 non-null  int64  \n",
            " 56  ps_calc_19_bin  892816 non-null  int64  \n",
            " 57  ps_calc_20_bin  892816 non-null  int64  \n",
            "dtypes: float64(10), int64(48)\n",
            "memory usage: 401.9 MB\n"
          ]
        }
      ]
    },
    {
      "cell_type": "markdown",
      "metadata": {
        "id": "r7Uf6aFr7wEn"
      },
      "source": [
        "# Separação das colunas em 8 grupos\n",
        "\n",
        "Inteção é facilitar a análise em grupos separadas, mas que parecem ser da mesma característica.\n",
        "\n",
        "* \"n\" indica a numeração da coluna.\n",
        "\n",
        "1.   **df_ps_ind**: colunas \"ps_ind_n\".\n",
        "2.   **df_ps_ind_cat**: colunas \"ps_ind_n_cat\".\n",
        "3.   **df_ps_ind_bin**: colunas \"ps_ind_n_bin\".\n",
        "4.   **df_ps_reg**: colunas \"ps_ps_reg_n\".\n",
        "5.   **df_ps_car**: colunas \"ps_car_n\".\n",
        "6.   **df_ps_car_cat**: colunas \"ps_car_n_cat\".\n",
        "7.   **df_ps_cal**: colunas \"ps_cal_n\".\n",
        "8.   **df_ps_cal_bin**: colunas \"ps_car_bin\".\n",
        "\n",
        "\n",
        "\n",
        "\n"
      ]
    },
    {
      "cell_type": "code",
      "metadata": {
        "id": "rZqSgWgQDX1W"
      },
      "source": [
        "# LISTA DAS COLUNAS CONFORME GRUPOS\n",
        "\n",
        "lista_ps_ind = ['ps_ind_01', 'ps_ind_03', 'ps_ind_14', 'ps_ind_15']\n",
        "\n",
        "lista_ps_ind_cat = ['ps_ind_02_cat','ps_ind_04_cat','ps_ind_05_cat']\n",
        "\n",
        "lista_ps_ind_bin = ['ps_ind_06_bin', 'ps_ind_07_bin', 'ps_ind_08_bin','ps_ind_09_bin', 'ps_ind_10_bin', 'ps_ind_11_bin', 'ps_ind_12_bin',\n",
        "                    'ps_ind_13_bin', 'ps_ind_16_bin', 'ps_ind_17_bin', 'ps_ind_18_bin']\n",
        "\n",
        "lista_ps_reg = ['ps_reg_01', 'ps_reg_02', 'ps_reg_03']         \n",
        "\n",
        "lista_ps_car = ['ps_car_11','ps_car_12', 'ps_car_13', 'ps_car_14', 'ps_car_15'] \n",
        "\n",
        "lista_ps_car_cat = ['ps_car_01_cat', 'ps_car_02_cat', 'ps_car_03_cat', 'ps_car_04_cat','ps_car_05_cat', 'ps_car_06_cat', \n",
        "                    'ps_car_07_cat', 'ps_car_08_cat','ps_car_09_cat', 'ps_car_10_cat', 'ps_car_11_cat']  \n",
        "\n",
        "lista_ps_cal = [ 'ps_calc_01','ps_calc_02', 'ps_calc_03', 'ps_calc_04', 'ps_calc_05', 'ps_calc_06','ps_calc_07', \n",
        "                'ps_calc_08', 'ps_calc_09', 'ps_calc_10', 'ps_calc_11','ps_calc_12', 'ps_calc_13', 'ps_calc_14']\n",
        "\n",
        "lista_ps_cal_bin = [ 'ps_calc_15_bin', 'ps_calc_16_bin', 'ps_calc_17_bin', 'ps_calc_18_bin','ps_calc_19_bin','ps_calc_20_bin']\n",
        "\n"
      ],
      "execution_count": 25,
      "outputs": []
    },
    {
      "cell_type": "code",
      "metadata": {
        "colab": {
          "base_uri": "https://localhost:8080/"
        },
        "id": "b-BmwK3a7Scd",
        "outputId": "fc2b7081-30b2-45ec-f958-1181bab2e8b4"
      },
      "source": [
        "# Grupo 1:\n",
        "\n",
        "df_ps_ind = df_test\n",
        "\n",
        "lista =  lista_ps_ind_cat + lista_ps_ind_bin + lista_ps_reg + lista_ps_car + lista_ps_car_cat + lista_ps_cal + lista_ps_cal_bin\n",
        "df_ps_ind = df_ps_ind.drop(lista, axis=1)\n",
        "\n",
        "df_ps_ind.columns"
      ],
      "execution_count": 34,
      "outputs": [
        {
          "output_type": "execute_result",
          "data": {
            "text/plain": [
              "Index(['id', 'ps_ind_01', 'ps_ind_03', 'ps_ind_14', 'ps_ind_15'], dtype='object')"
            ]
          },
          "metadata": {},
          "execution_count": 34
        }
      ]
    },
    {
      "cell_type": "code",
      "metadata": {
        "colab": {
          "base_uri": "https://localhost:8080/"
        },
        "id": "qvfqoWAj6aN9",
        "outputId": "f314e49d-fb48-4a43-872f-81f0fd458327"
      },
      "source": [
        "# Grupo 2:\n",
        "\n",
        "df_ps_ind_cat = df_test\n",
        "\n",
        "lista =  lista_ps_ind + lista_ps_ind_bin + lista_ps_reg + lista_ps_car + lista_ps_car_cat + lista_ps_cal + lista_ps_cal_bin\n",
        "df_ps_ind_cat = df_ps_ind_cat.drop(lista, axis=1)\n",
        "\n",
        "df_ps_ind_cat.columns"
      ],
      "execution_count": 36,
      "outputs": [
        {
          "output_type": "execute_result",
          "data": {
            "text/plain": [
              "Index(['id', 'ps_ind_02_cat', 'ps_ind_04_cat', 'ps_ind_05_cat'], dtype='object')"
            ]
          },
          "metadata": {},
          "execution_count": 36
        }
      ]
    },
    {
      "cell_type": "code",
      "metadata": {
        "colab": {
          "base_uri": "https://localhost:8080/"
        },
        "id": "XDdu86xW6wuG",
        "outputId": "1bf62637-a368-4c18-b3cf-9187a1ffa987"
      },
      "source": [
        "# Grupo 3:\n",
        "\n",
        "df_ps_ind_bin = df_test\n",
        "\n",
        "lista =  lista_ps_ind + lista_ps_ind_cat + lista_ps_reg + lista_ps_car + lista_ps_car_cat + lista_ps_cal + lista_ps_cal_bin\n",
        "df_ps_ind_bin = df_ps_ind_bin.drop(lista, axis=1)\n",
        "\n",
        "df_ps_ind_bin.columns"
      ],
      "execution_count": 38,
      "outputs": [
        {
          "output_type": "execute_result",
          "data": {
            "text/plain": [
              "Index(['id', 'ps_ind_06_bin', 'ps_ind_07_bin', 'ps_ind_08_bin',\n",
              "       'ps_ind_09_bin', 'ps_ind_10_bin', 'ps_ind_11_bin', 'ps_ind_12_bin',\n",
              "       'ps_ind_13_bin', 'ps_ind_16_bin', 'ps_ind_17_bin', 'ps_ind_18_bin'],\n",
              "      dtype='object')"
            ]
          },
          "metadata": {},
          "execution_count": 38
        }
      ]
    },
    {
      "cell_type": "code",
      "metadata": {
        "id": "Gn23ECeyQGhY"
      },
      "source": [
        "url = 'https://raw.githubusercontent.com/danilosrm/projeto_MDD/main/00%20-%20FONTES/01%20-%20TRAIN/train_01.csv'\n",
        "  \n",
        "df_train = pd.read_csv(url, error_bad_lines=False, delimiter=';')\n",
        "  \n",
        "url = 'https://raw.githubusercontent.com/danilosrm/projeto_MDD/main/00%20-%20FONTES/01%20-%20TRAIN/train_02.csv'  \n",
        "  \n",
        "df2_train = pd.read_csv(url, error_bad_lines=False, delimiter=';')\n",
        "  \n",
        "df_train = df_train.append(df2_train)\n"
      ],
      "execution_count": null,
      "outputs": []
    },
    {
      "cell_type": "code",
      "metadata": {
        "id": "Rq8_qYzldAxi"
      },
      "source": [
        "df_train.columns"
      ],
      "execution_count": null,
      "outputs": []
    },
    {
      "cell_type": "code",
      "metadata": {
        "id": "uwyteuv7VveJ"
      },
      "source": [
        "df_train.info()"
      ],
      "execution_count": null,
      "outputs": []
    },
    {
      "cell_type": "code",
      "metadata": {
        "id": "JyC_ilGjc2gS"
      },
      "source": [
        ""
      ],
      "execution_count": null,
      "outputs": []
    }
  ]
}